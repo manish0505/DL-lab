{
 "cells": [
  {
   "cell_type": "markdown",
   "id": "98dabe8c-3597-41d5-8a22-24e3d8b72ace",
   "metadata": {},
   "source": [
    "# Required imports"
   ]
  },
  {
   "cell_type": "code",
   "execution_count": 1,
   "id": "1302773c-4c2b-41d3-9c8a-fec531a3de67",
   "metadata": {},
   "outputs": [],
   "source": [
    "import numpy as np\n",
    "import pandas as pd\n",
    "import matplotlib.pyplot as plt\n",
    "import tensorflow as tf\n",
    "from tensorflow import keras\n",
    "from tensorflow.keras.models import Sequential\n",
    "from tensorflow.keras.layers import SimpleRNN, Dense\n",
    "from sklearn.model_selection import train_test_split"
   ]
  },
  {
   "cell_type": "markdown",
   "id": "aa3942fa-3f54-4151-9603-e421cf3bb88f",
   "metadata": {},
   "source": [
    "## use the following code to generate time series"
   ]
  },
  {
   "cell_type": "code",
   "execution_count": 2,
   "id": "31e153cf-f682-429a-a996-3304b33cea79",
   "metadata": {},
   "outputs": [],
   "source": [
    "# Time series generator\n",
    "def generate_time_series(sample_size, n_steps):\n",
    "    freq1, freq2, offsets1, offsets2 = np.random.rand(4, sample_size, 1)\n",
    "    time = np.linspace(0, 1, n_steps)\n",
    "    series = 0.5 * np.sin((time - offsets1) * (freq1 * 10 + 10))  # wave1\n",
    "    series += 0.2 * np.sin((time - offsets2) * (freq2 * 20 + 20))  # wave2\n",
    "    series += 0.1 * (np.random.rand(sample_size, n_steps) - 0.5)   # noise\n",
    "    return series[..., np.newaxis].astype(np.float32)"
   ]
  },
  {
   "cell_type": "markdown",
   "id": "25d6669f-2267-42c9-b48d-abb1a7e9a4ff",
   "metadata": {},
   "source": [
    "### A) Creating a dataset of 10,000 samples with 51 time steps each"
   ]
  },
  {
   "cell_type": "code",
   "execution_count": 3,
   "id": "a8414d64-b4d0-4296-b768-9e33dbb71947",
   "metadata": {},
   "outputs": [],
   "source": [
    "n_steps = 51\n",
    "n_samples = 10000\n",
    "series = generate_time_series(n_samples, n_steps)\n",
    "\n",
    "X = series[:, :50, :] # First 50 steps as features\n",
    "y = series[:, 50, 0] # 51st step as target"
   ]
  },
  {
   "cell_type": "markdown",
   "id": "6d1c5092-bea3-4896-9fa9-06fbd2d87436",
   "metadata": {},
   "source": [
    "### B) Splitting the dataset in the ratio training: validation: testing = 70:20:10."
   ]
  },
  {
   "cell_type": "code",
   "execution_count": 4,
   "id": "717aa9d6-b21a-4c0f-a213-5578c8b5a6ff",
   "metadata": {},
   "outputs": [
    {
     "name": "stdout",
     "output_type": "stream",
     "text": [
      "Train: (7000, 50, 1) (7000,)\n",
      "Val:   (2000, 50, 1) (2000,)\n",
      "Test:  (1000, 50, 1) (1000,)\n"
     ]
    }
   ],
   "source": [
    "X_train, X_temp, y_train, y_temp = train_test_split(X, y, test_size=0.3, random_state=42)\n",
    "X_val, X_test, y_val, y_test = train_test_split(X_temp, y_temp, test_size=1/3, random_state=42)\n",
    "\n",
    "print(\"Train:\", X_train.shape, y_train.shape)\n",
    "print(\"Val:  \", X_val.shape, y_val.shape)\n",
    "print(\"Test: \", X_test.shape, y_test.shape)"
   ]
  },
  {
   "cell_type": "markdown",
   "id": "fb8b544c-449c-4c39-bc00-a56a34705d0c",
   "metadata": {},
   "source": [
    "### B) Split the dataset in the ratio training: validation: testing = 70:20:10."
   ]
  },
  {
   "cell_type": "code",
   "execution_count": 5,
   "id": "cf9c3c9e-8d6a-45e9-8ddd-398542dbaf71",
   "metadata": {},
   "outputs": [],
   "source": [
    "X_train_full, X_test, y_train_full, y_test = train_test_split(X, y, test_size=0.1, random_state=42)\n",
    "X_train, X_val, y_train, y_val = train_test_split(X_train_full, y_train_full, test_size=2/9, random_state=42)"
   ]
  },
  {
   "cell_type": "code",
   "execution_count": 6,
   "id": "3bc62e53-2900-4145-8352-30af91003923",
   "metadata": {},
   "outputs": [
    {
     "name": "stderr",
     "output_type": "stream",
     "text": [
      "C:\\Users\\asus\\AppData\\Local\\Programs\\Python\\Python310\\lib\\site-packages\\keras\\src\\layers\\rnn\\rnn.py:200: UserWarning: Do not pass an `input_shape`/`input_dim` argument to a layer. When using Sequential models, prefer using an `Input(shape)` object as the first layer in the model instead.\n",
      "  super().__init__(**kwargs)\n"
     ]
    }
   ],
   "source": [
    "model_rnn_1 = Sequential([\n",
    "    SimpleRNN(20, activation='tanh', input_shape=(50, 1)),\n",
    "    Dense(1)\n",
    "])\n",
    "\n",
    "model_rnn_1.compile(optimizer='adam', loss='mse')"
   ]
  },
  {
   "cell_type": "markdown",
   "id": "aa5380eb-dd73-43f7-b644-d4f339447f62",
   "metadata": {},
   "source": [
    "### C) Design, train, test and compare the performances of the following on the prediction of the value of 51st time step in the generated time series"
   ]
  },
  {
   "cell_type": "code",
   "execution_count": 7,
   "id": "f257eaa2-bf6f-4c91-b38d-be18c3843f85",
   "metadata": {},
   "outputs": [
    {
     "name": "stdout",
     "output_type": "stream",
     "text": [
      "Epoch 1/15\n",
      "\u001b[1m219/219\u001b[0m \u001b[32m━━━━━━━━━━━━━━━━━━━━\u001b[0m\u001b[37m\u001b[0m \u001b[1m2s\u001b[0m 5ms/step - loss: 0.0704 - mae: 0.1930 - val_loss: 0.0086 - val_mae: 0.0746\n",
      "Epoch 2/15\n",
      "\u001b[1m219/219\u001b[0m \u001b[32m━━━━━━━━━━━━━━━━━━━━\u001b[0m\u001b[37m\u001b[0m \u001b[1m1s\u001b[0m 4ms/step - loss: 0.0074 - mae: 0.0686 - val_loss: 0.0053 - val_mae: 0.0583\n",
      "Epoch 3/15\n",
      "\u001b[1m219/219\u001b[0m \u001b[32m━━━━━━━━━━━━━━━━━━━━\u001b[0m\u001b[37m\u001b[0m \u001b[1m1s\u001b[0m 4ms/step - loss: 0.0047 - mae: 0.0551 - val_loss: 0.0043 - val_mae: 0.0529\n",
      "Epoch 4/15\n",
      "\u001b[1m219/219\u001b[0m \u001b[32m━━━━━━━━━━━━━━━━━━━━\u001b[0m\u001b[37m\u001b[0m \u001b[1m1s\u001b[0m 4ms/step - loss: 0.0039 - mae: 0.0503 - val_loss: 0.0038 - val_mae: 0.0497\n",
      "Epoch 5/15\n",
      "\u001b[1m219/219\u001b[0m \u001b[32m━━━━━━━━━━━━━━━━━━━━\u001b[0m\u001b[37m\u001b[0m \u001b[1m1s\u001b[0m 4ms/step - loss: 0.0035 - mae: 0.0474 - val_loss: 0.0035 - val_mae: 0.0475\n",
      "Epoch 6/15\n",
      "\u001b[1m219/219\u001b[0m \u001b[32m━━━━━━━━━━━━━━━━━━━━\u001b[0m\u001b[37m\u001b[0m \u001b[1m1s\u001b[0m 4ms/step - loss: 0.0034 - mae: 0.0467 - val_loss: 0.0036 - val_mae: 0.0484\n",
      "Epoch 7/15\n",
      "\u001b[1m219/219\u001b[0m \u001b[32m━━━━━━━━━━━━━━━━━━━━\u001b[0m\u001b[37m\u001b[0m \u001b[1m1s\u001b[0m 4ms/step - loss: 0.0033 - mae: 0.0466 - val_loss: 0.0034 - val_mae: 0.0473\n",
      "Epoch 8/15\n",
      "\u001b[1m219/219\u001b[0m \u001b[32m━━━━━━━━━━━━━━━━━━━━\u001b[0m\u001b[37m\u001b[0m \u001b[1m1s\u001b[0m 4ms/step - loss: 0.0033 - mae: 0.0462 - val_loss: 0.0034 - val_mae: 0.0468\n",
      "Epoch 9/15\n",
      "\u001b[1m219/219\u001b[0m \u001b[32m━━━━━━━━━━━━━━━━━━━━\u001b[0m\u001b[37m\u001b[0m \u001b[1m1s\u001b[0m 4ms/step - loss: 0.0033 - mae: 0.0467 - val_loss: 0.0032 - val_mae: 0.0456\n",
      "Epoch 10/15\n",
      "\u001b[1m219/219\u001b[0m \u001b[32m━━━━━━━━━━━━━━━━━━━━\u001b[0m\u001b[37m\u001b[0m \u001b[1m1s\u001b[0m 4ms/step - loss: 0.0032 - mae: 0.0457 - val_loss: 0.0034 - val_mae: 0.0471\n",
      "Epoch 11/15\n",
      "\u001b[1m219/219\u001b[0m \u001b[32m━━━━━━━━━━━━━━━━━━━━\u001b[0m\u001b[37m\u001b[0m \u001b[1m1s\u001b[0m 4ms/step - loss: 0.0031 - mae: 0.0451 - val_loss: 0.0033 - val_mae: 0.0460\n",
      "Epoch 12/15\n",
      "\u001b[1m219/219\u001b[0m \u001b[32m━━━━━━━━━━━━━━━━━━━━\u001b[0m\u001b[37m\u001b[0m \u001b[1m1s\u001b[0m 4ms/step - loss: 0.0031 - mae: 0.0448 - val_loss: 0.0032 - val_mae: 0.0455\n",
      "Epoch 13/15\n",
      "\u001b[1m219/219\u001b[0m \u001b[32m━━━━━━━━━━━━━━━━━━━━\u001b[0m\u001b[37m\u001b[0m \u001b[1m1s\u001b[0m 4ms/step - loss: 0.0031 - mae: 0.0446 - val_loss: 0.0032 - val_mae: 0.0459\n",
      "Epoch 14/15\n",
      "\u001b[1m219/219\u001b[0m \u001b[32m━━━━━━━━━━━━━━━━━━━━\u001b[0m\u001b[37m\u001b[0m \u001b[1m1s\u001b[0m 4ms/step - loss: 0.0031 - mae: 0.0449 - val_loss: 0.0032 - val_mae: 0.0458\n",
      "Epoch 15/15\n",
      "\u001b[1m219/219\u001b[0m \u001b[32m━━━━━━━━━━━━━━━━━━━━\u001b[0m\u001b[37m\u001b[0m \u001b[1m1s\u001b[0m 4ms/step - loss: 0.0031 - mae: 0.0450 - val_loss: 0.0032 - val_mae: 0.0459\n"
     ]
    }
   ],
   "source": [
    "# i. Simple RNN with one hidden layer and one output layer.\n",
    "model1 = Sequential([\n",
    "    SimpleRNN(20, activation=\"tanh\", input_shape=[50, 1]),\n",
    "    Dense(1, activation = \"linear\")\n",
    "])\n",
    "\n",
    "# Compiling the model\n",
    "model1.compile(optimizer=\"adam\", loss=\"mse\", metrics=[\"mae\"])\n",
    "\n",
    "# Training/Fitting the model\n",
    "history1 = model1.fit(X_train, y_train, epochs=15, validation_data=(X_val, y_val), verbose=1)"
   ]
  },
  {
   "cell_type": "code",
   "execution_count": 8,
   "id": "15c4ed85-ebe4-436a-86e8-63b22b2173fb",
   "metadata": {},
   "outputs": [
    {
     "data": {
      "text/plain": [
       "Text(0.5, 1.0, 'Training & Validation MAE')"
      ]
     },
     "execution_count": 8,
     "metadata": {},
     "output_type": "execute_result"
    },
    {
     "data": {
      "image/png": "[encoded data removed]",
      "text/plain": [
       "<Figure size 864x360 with 1 Axes>"
      ]
     },
     "metadata": {
      "needs_background": "light"
     },
     "output_type": "display_data"
    }
   ],
   "source": [
    "# Plot training & validation mae\n",
    "plt.figure(figsize=(12,5))\n",
    "plt.subplot(1,2,1)\n",
    "plt.plot(history1.history['mae'], label='Train MAE')\n",
    "plt.plot(history1.history['val_mae'], label='Validation MAE')\n",
    "plt.xlabel('Epochs')\n",
    "plt.ylabel('MAE')\n",
    "plt.legend()\n",
    "plt.title('Training & Validation MAE')"
   ]
  },
  {
   "cell_type": "code",
   "execution_count": 9,
   "id": "c5038a19-3b85-4eb1-a888-209a9b9b577a",
   "metadata": {},
   "outputs": [
    {
     "name": "stdout",
     "output_type": "stream",
     "text": [
      "Epoch 1/15\n",
      "\u001b[1m219/219\u001b[0m \u001b[32m━━━━━━━━━━━━━━━━━━━━\u001b[0m\u001b[37m\u001b[0m \u001b[1m3s\u001b[0m 9ms/step - loss: 0.0816 - mae: 0.1886 - val_loss: 0.0071 - val_mae: 0.0670\n",
      "Epoch 2/15\n",
      "\u001b[1m219/219\u001b[0m \u001b[32m━━━━━━━━━━━━━━━━━━━━\u001b[0m\u001b[37m\u001b[0m \u001b[1m2s\u001b[0m 7ms/step - loss: 0.0057 - mae: 0.0604 - val_loss: 0.0049 - val_mae: 0.0558\n",
      "Epoch 3/15\n",
      "\u001b[1m219/219\u001b[0m \u001b[32m━━━━━━━━━━━━━━━━━━━━\u001b[0m\u001b[37m\u001b[0m \u001b[1m2s\u001b[0m 8ms/step - loss: 0.0039 - mae: 0.0502 - val_loss: 0.0039 - val_mae: 0.0503\n",
      "Epoch 4/15\n",
      "\u001b[1m219/219\u001b[0m \u001b[32m━━━━━━━━━━━━━━━━━━━━\u001b[0m\u001b[37m\u001b[0m \u001b[1m2s\u001b[0m 8ms/step - loss: 0.0035 - mae: 0.0475 - val_loss: 0.0033 - val_mae: 0.0472\n",
      "Epoch 5/15\n",
      "\u001b[1m219/219\u001b[0m \u001b[32m━━━━━━━━━━━━━━━━━━━━\u001b[0m\u001b[37m\u001b[0m \u001b[1m2s\u001b[0m 8ms/step - loss: 0.0032 - mae: 0.0453 - val_loss: 0.0033 - val_mae: 0.0463\n",
      "Epoch 6/15\n",
      "\u001b[1m219/219\u001b[0m \u001b[32m━━━━━━━━━━━━━━━━━━━━\u001b[0m\u001b[37m\u001b[0m \u001b[1m2s\u001b[0m 8ms/step - loss: 0.0032 - mae: 0.0452 - val_loss: 0.0032 - val_mae: 0.0454\n",
      "Epoch 7/15\n",
      "\u001b[1m219/219\u001b[0m \u001b[32m━━━━━━━━━━━━━━━━━━━━\u001b[0m\u001b[37m\u001b[0m \u001b[1m2s\u001b[0m 8ms/step - loss: 0.0030 - mae: 0.0436 - val_loss: 0.0034 - val_mae: 0.0470\n",
      "Epoch 8/15\n",
      "\u001b[1m219/219\u001b[0m \u001b[32m━━━━━━━━━━━━━━━━━━━━\u001b[0m\u001b[37m\u001b[0m \u001b[1m2s\u001b[0m 8ms/step - loss: 0.0031 - mae: 0.0449 - val_loss: 0.0034 - val_mae: 0.0475\n",
      "Epoch 9/15\n",
      "\u001b[1m219/219\u001b[0m \u001b[32m━━━━━━━━━━━━━━━━━━━━\u001b[0m\u001b[37m\u001b[0m \u001b[1m2s\u001b[0m 8ms/step - loss: 0.0029 - mae: 0.0434 - val_loss: 0.0036 - val_mae: 0.0484\n",
      "Epoch 10/15\n",
      "\u001b[1m219/219\u001b[0m \u001b[32m━━━━━━━━━━━━━━━━━━━━\u001b[0m\u001b[37m\u001b[0m \u001b[1m2s\u001b[0m 8ms/step - loss: 0.0029 - mae: 0.0432 - val_loss: 0.0031 - val_mae: 0.0449\n",
      "Epoch 11/15\n",
      "\u001b[1m219/219\u001b[0m \u001b[32m━━━━━━━━━━━━━━━━━━━━\u001b[0m\u001b[37m\u001b[0m \u001b[1m2s\u001b[0m 8ms/step - loss: 0.0029 - mae: 0.0435 - val_loss: 0.0032 - val_mae: 0.0458\n",
      "Epoch 12/15\n",
      "\u001b[1m219/219\u001b[0m \u001b[32m━━━━━━━━━━━━━━━━━━━━\u001b[0m\u001b[37m\u001b[0m \u001b[1m2s\u001b[0m 8ms/step - loss: 0.0029 - mae: 0.0436 - val_loss: 0.0031 - val_mae: 0.0448\n",
      "Epoch 13/15\n",
      "\u001b[1m219/219\u001b[0m \u001b[32m━━━━━━━━━━━━━━━━━━━━\u001b[0m\u001b[37m\u001b[0m \u001b[1m2s\u001b[0m 8ms/step - loss: 0.0030 - mae: 0.0439 - val_loss: 0.0030 - val_mae: 0.0445\n",
      "Epoch 14/15\n",
      "\u001b[1m219/219\u001b[0m \u001b[32m━━━━━━━━━━━━━━━━━━━━\u001b[0m\u001b[37m\u001b[0m \u001b[1m2s\u001b[0m 8ms/step - loss: 0.0030 - mae: 0.0437 - val_loss: 0.0030 - val_mae: 0.0444\n",
      "Epoch 15/15\n",
      "\u001b[1m219/219\u001b[0m \u001b[32m━━━━━━━━━━━━━━━━━━━━\u001b[0m\u001b[37m\u001b[0m \u001b[1m2s\u001b[0m 7ms/step - loss: 0.0029 - mae: 0.0433 - val_loss: 0.0031 - val_mae: 0.0448\n"
     ]
    }
   ],
   "source": [
    "# ii. Simple RNN with two hidden layers and one output layer\n",
    "model2 = Sequential([\n",
    "    SimpleRNN(20, activation=\"tanh\", return_sequences=True, input_shape=[50, 1]),\n",
    "    SimpleRNN(20, activation=\"tanh\"),\n",
    "    Dense(1)\n",
    "])\n",
    "\n",
    "#Compiling the model\n",
    "model2.compile(optimizer=\"adam\", loss=\"mse\", metrics=[\"mae\"])\n",
    "\n",
    "# Training/Fitting the model\n",
    "history2 = model2.fit(X_train, y_train, epochs=15, validation_data=(X_val, y_val), verbose=1)"
   ]
  },
  {
   "cell_type": "code",
   "execution_count": 10,
   "id": "ba336d7d-7bd1-4ea4-bb33-31823ba3cc93",
   "metadata": {},
   "outputs": [
    {
     "data": {
      "text/plain": [
       "Text(0.5, 1.0, 'Training & Validation MAE')"
      ]
     },
     "execution_count": 10,
     "metadata": {},
     "output_type": "execute_result"
    },
    {
     "data": {
      "image/png": "[encoded data removed]",
      "text/plain": [
       "<Figure size 864x360 with 1 Axes>"
      ]
     },
     "metadata": {
      "needs_background": "light"
     },
     "output_type": "display_data"
    }
   ],
   "source": [
    "# Plot training & validation mae\n",
    "plt.figure(figsize=(12,5))\n",
    "plt.subplot(1,2,1)\n",
    "plt.plot(history2.history['mae'], label='Train MAE')\n",
    "plt.plot(history2.history['val_mae'], label='Validation MAE')\n",
    "plt.xlabel('Epochs')\n",
    "plt.ylabel('MAE')\n",
    "plt.legend()\n",
    "plt.title('Training & Validation MAE')"
   ]
  },
  {
   "cell_type": "code",
   "execution_count": 11,
   "id": "9fd1ba24-9802-4d89-b7dc-8c2ac77bbf82",
   "metadata": {},
   "outputs": [
    {
     "name": "stdout",
     "output_type": "stream",
     "text": [
      "\n",
      "Performance on Test Set:\n",
      "RNN (1 hidden layer) MSE: 0.0032, MAE: 0.0462\n",
      "RNN (2 hidden layers) MSE: 0.0029, MAE: 0.0441\n"
     ]
    }
   ],
   "source": [
    "# Testing the 2 models\n",
    "test_loss1, test_mae1 = model1.evaluate(X_test, y_test, verbose=0)\n",
    "test_loss2, test_mae2 = model2.evaluate(X_test, y_test, verbose=0)\n",
    "\n",
    "print(\"\\nPerformance on Test Set:\")\n",
    "print(f\"RNN (1 hidden layer) MSE: {test_loss1:.4f}, MAE: {test_mae1:.4f}\")\n",
    "print(f\"RNN (2 hidden layers) MSE: {test_loss2:.4f}, MAE: {test_mae2:.4f}\")"
   ]
  },
  {
   "cell_type": "markdown",
   "id": "d167f203-a4a0-4f5a-9cde-d9408f19ba69",
   "metadata": {},
   "source": [
    "##### Both RNN has similar performance"
   ]
  },
  {
   "cell_type": "code",
   "execution_count": null,
   "id": "e62d3421-c25f-476b-a8a1-e22bb6f259d5",
   "metadata": {},
   "outputs": [],
   "source": []
  }
 ],
 "metadata": {
  "kernelspec": {
   "display_name": "Python 3 (ipykernel)",
   "language": "python",
   "name": "python3"
  },
  "language_info": {
   "codemirror_mode": {
    "name": "ipython",
    "version": 3
   },
   "file_extension": ".py",
   "mimetype": "text/x-python",
   "name": "python",
   "nbconvert_exporter": "python",
   "pygments_lexer": "ipython3",
   "version": "3.10.5"
  }
 },
 "nbformat": 4,
 "nbformat_minor": 5
}
